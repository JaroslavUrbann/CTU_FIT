{
  "nbformat": 4,
  "nbformat_minor": 0,
  "metadata": {
    "colab": {
      "name": "SearchAlgoVisualization.ipynb",
      "provenance": [],
      "collapsed_sections": []
    },
    "kernelspec": {
      "name": "python3",
      "display_name": "Python 3"
    },
    "widgets": {
      "application/vnd.jupyter.widget-state+json": {
        "51bef73ba5ee4186b8c850b1defbb4c1": {
          "model_module": "@jupyter-widgets/controls",
          "model_name": "HBoxModel",
          "state": {
            "_view_name": "HBoxView",
            "_dom_classes": [],
            "_model_name": "HBoxModel",
            "_view_module": "@jupyter-widgets/controls",
            "_model_module_version": "1.5.0",
            "_view_count": null,
            "_view_module_version": "1.5.0",
            "box_style": "",
            "layout": "IPY_MODEL_111abdce3893458eb6ae024c8cc3fc02",
            "_model_module": "@jupyter-widgets/controls",
            "children": [
              "IPY_MODEL_eadd5b872c474223b870560b373d3860",
              "IPY_MODEL_63c74ac728bf46709713470886724ada"
            ]
          }
        },
        "111abdce3893458eb6ae024c8cc3fc02": {
          "model_module": "@jupyter-widgets/base",
          "model_name": "LayoutModel",
          "state": {
            "_view_name": "LayoutView",
            "grid_template_rows": null,
            "right": null,
            "justify_content": null,
            "_view_module": "@jupyter-widgets/base",
            "overflow": null,
            "_model_module_version": "1.2.0",
            "_view_count": null,
            "flex_flow": null,
            "width": null,
            "min_width": null,
            "border": null,
            "align_items": null,
            "bottom": null,
            "_model_module": "@jupyter-widgets/base",
            "top": null,
            "grid_column": null,
            "overflow_y": null,
            "overflow_x": null,
            "grid_auto_flow": null,
            "grid_area": null,
            "grid_template_columns": null,
            "flex": null,
            "_model_name": "LayoutModel",
            "justify_items": null,
            "grid_row": null,
            "max_height": null,
            "align_content": null,
            "visibility": null,
            "align_self": null,
            "height": null,
            "min_height": null,
            "padding": null,
            "grid_auto_rows": null,
            "grid_gap": null,
            "max_width": null,
            "order": null,
            "_view_module_version": "1.2.0",
            "grid_template_areas": null,
            "object_position": null,
            "object_fit": null,
            "grid_auto_columns": null,
            "margin": null,
            "display": null,
            "left": null
          }
        },
        "eadd5b872c474223b870560b373d3860": {
          "model_module": "@jupyter-widgets/controls",
          "model_name": "ButtonModel",
          "state": {
            "_view_name": "ButtonView",
            "style": "IPY_MODEL_3d6e405c60014a45b0119cd7fe9ffb1b",
            "_dom_classes": [],
            "description": "Step",
            "_model_name": "ButtonModel",
            "button_style": "",
            "_view_module": "@jupyter-widgets/controls",
            "_model_module_version": "1.5.0",
            "tooltip": "",
            "_view_count": null,
            "disabled": false,
            "_view_module_version": "1.5.0",
            "layout": "IPY_MODEL_06d9f48dcecc4440a3fdcbcdac08d5c1",
            "_model_module": "@jupyter-widgets/controls",
            "icon": ""
          }
        },
        "63c74ac728bf46709713470886724ada": {
          "model_module": "@jupyter-widgets/controls",
          "model_name": "ButtonModel",
          "state": {
            "_view_name": "ButtonView",
            "style": "IPY_MODEL_c96998bbbe0247fc835843617bc85061",
            "_dom_classes": [],
            "description": "Run",
            "_model_name": "ButtonModel",
            "button_style": "",
            "_view_module": "@jupyter-widgets/controls",
            "_model_module_version": "1.5.0",
            "tooltip": "",
            "_view_count": null,
            "disabled": false,
            "_view_module_version": "1.5.0",
            "layout": "IPY_MODEL_deb5797f9171476181f3b5530d22ef49",
            "_model_module": "@jupyter-widgets/controls",
            "icon": ""
          }
        },
        "3d6e405c60014a45b0119cd7fe9ffb1b": {
          "model_module": "@jupyter-widgets/controls",
          "model_name": "ButtonStyleModel",
          "state": {
            "_view_name": "StyleView",
            "_model_name": "ButtonStyleModel",
            "_view_module": "@jupyter-widgets/base",
            "_model_module_version": "1.5.0",
            "_view_count": null,
            "button_color": null,
            "font_weight": "",
            "_view_module_version": "1.2.0",
            "_model_module": "@jupyter-widgets/controls"
          }
        },
        "06d9f48dcecc4440a3fdcbcdac08d5c1": {
          "model_module": "@jupyter-widgets/base",
          "model_name": "LayoutModel",
          "state": {
            "_view_name": "LayoutView",
            "grid_template_rows": null,
            "right": null,
            "justify_content": null,
            "_view_module": "@jupyter-widgets/base",
            "overflow": null,
            "_model_module_version": "1.2.0",
            "_view_count": null,
            "flex_flow": null,
            "width": null,
            "min_width": null,
            "border": null,
            "align_items": null,
            "bottom": null,
            "_model_module": "@jupyter-widgets/base",
            "top": null,
            "grid_column": null,
            "overflow_y": null,
            "overflow_x": null,
            "grid_auto_flow": null,
            "grid_area": null,
            "grid_template_columns": null,
            "flex": null,
            "_model_name": "LayoutModel",
            "justify_items": null,
            "grid_row": null,
            "max_height": null,
            "align_content": null,
            "visibility": null,
            "align_self": null,
            "height": null,
            "min_height": null,
            "padding": null,
            "grid_auto_rows": null,
            "grid_gap": null,
            "max_width": null,
            "order": null,
            "_view_module_version": "1.2.0",
            "grid_template_areas": null,
            "object_position": null,
            "object_fit": null,
            "grid_auto_columns": null,
            "margin": null,
            "display": null,
            "left": null
          }
        },
        "c96998bbbe0247fc835843617bc85061": {
          "model_module": "@jupyter-widgets/controls",
          "model_name": "ButtonStyleModel",
          "state": {
            "_view_name": "StyleView",
            "_model_name": "ButtonStyleModel",
            "_view_module": "@jupyter-widgets/base",
            "_model_module_version": "1.5.0",
            "_view_count": null,
            "button_color": null,
            "font_weight": "",
            "_view_module_version": "1.2.0",
            "_model_module": "@jupyter-widgets/controls"
          }
        },
        "deb5797f9171476181f3b5530d22ef49": {
          "model_module": "@jupyter-widgets/base",
          "model_name": "LayoutModel",
          "state": {
            "_view_name": "LayoutView",
            "grid_template_rows": null,
            "right": null,
            "justify_content": null,
            "_view_module": "@jupyter-widgets/base",
            "overflow": null,
            "_model_module_version": "1.2.0",
            "_view_count": null,
            "flex_flow": null,
            "width": null,
            "min_width": null,
            "border": null,
            "align_items": null,
            "bottom": null,
            "_model_module": "@jupyter-widgets/base",
            "top": null,
            "grid_column": null,
            "overflow_y": null,
            "overflow_x": null,
            "grid_auto_flow": null,
            "grid_area": null,
            "grid_template_columns": null,
            "flex": null,
            "_model_name": "LayoutModel",
            "justify_items": null,
            "grid_row": null,
            "max_height": null,
            "align_content": null,
            "visibility": null,
            "align_self": null,
            "height": null,
            "min_height": null,
            "padding": null,
            "grid_auto_rows": null,
            "grid_gap": null,
            "max_width": null,
            "order": null,
            "_view_module_version": "1.2.0",
            "grid_template_areas": null,
            "object_position": null,
            "object_fit": null,
            "grid_auto_columns": null,
            "margin": null,
            "display": null,
            "left": null
          }
        },
        "f59799cf41524cc7a37c02243ff697a7": {
          "model_module": "@jupyter-widgets/output",
          "model_name": "OutputModel",
          "state": {
            "_view_name": "OutputView",
            "msg_id": "",
            "_dom_classes": [],
            "_model_name": "OutputModel",
            "outputs": [
              {
                "output_type": "stream",
                "metadata": {
                  "tags": []
                },
                "text": "XXXXXXXXXXXXXXXXXXXXXXXXXXXXXXXXXXXXXXXXXXXXXXXXXXXXXXX\nX                                 #***************X   X\nX  XX XXXX   X  XXXXX XXXXX  X  XXXX***XXXX*X*X***X X X\nX X                   X   X   X#******X******SX*X*X X X\nX   XX X  XXXXXX XXXX X   XX  XXX**X****XX*XXX**X*XXX X\nX       X    E          X       #*# #*X*********X****#X\nXXXXXXXXXXXXXXXXXXXXXXXXXXXXXXXXXXXXXXXXXXXXXXXXXXXXXXX\n---------------------------------------\nNodes expanded: 63\nPath length: 0\n",
                "stream": "stdout"
              }
            ],
            "_view_module": "@jupyter-widgets/output",
            "_model_module_version": "1.0.0",
            "_view_count": null,
            "_view_module_version": "1.0.0",
            "layout": "IPY_MODEL_0898f4971ddc4909a589656eaede6d9b",
            "_model_module": "@jupyter-widgets/output"
          }
        },
        "2c61a47c26494016a4ccd603aecae333": {
          "model_module": "@jupyter-widgets/controls",
          "model_name": "HBoxModel",
          "state": {
            "_view_name": "HBoxView",
            "_dom_classes": [],
            "_model_name": "HBoxModel",
            "_view_module": "@jupyter-widgets/controls",
            "_model_module_version": "1.5.0",
            "_view_count": null,
            "_view_module_version": "1.5.0",
            "box_style": "",
            "layout": "IPY_MODEL_fffde02a0d3d48c8a837a8ff654394e5",
            "_model_module": "@jupyter-widgets/controls",
            "children": [
              "IPY_MODEL_1d6471459949495cbdafdef88c7a344c",
              "IPY_MODEL_d4550ef45e7b4206bbc1e57310d81a87"
            ]
          }
        },
        "fffde02a0d3d48c8a837a8ff654394e5": {
          "model_module": "@jupyter-widgets/base",
          "model_name": "LayoutModel",
          "state": {
            "_view_name": "LayoutView",
            "grid_template_rows": null,
            "right": null,
            "justify_content": null,
            "_view_module": "@jupyter-widgets/base",
            "overflow": null,
            "_model_module_version": "1.2.0",
            "_view_count": null,
            "flex_flow": null,
            "width": null,
            "min_width": null,
            "border": null,
            "align_items": null,
            "bottom": null,
            "_model_module": "@jupyter-widgets/base",
            "top": null,
            "grid_column": null,
            "overflow_y": null,
            "overflow_x": null,
            "grid_auto_flow": null,
            "grid_area": null,
            "grid_template_columns": null,
            "flex": null,
            "_model_name": "LayoutModel",
            "justify_items": null,
            "grid_row": null,
            "max_height": null,
            "align_content": null,
            "visibility": null,
            "align_self": null,
            "height": null,
            "min_height": null,
            "padding": null,
            "grid_auto_rows": null,
            "grid_gap": null,
            "max_width": null,
            "order": null,
            "_view_module_version": "1.2.0",
            "grid_template_areas": null,
            "object_position": null,
            "object_fit": null,
            "grid_auto_columns": null,
            "margin": null,
            "display": null,
            "left": null
          }
        },
        "1d6471459949495cbdafdef88c7a344c": {
          "model_module": "@jupyter-widgets/controls",
          "model_name": "ButtonModel",
          "state": {
            "_view_name": "ButtonView",
            "style": "IPY_MODEL_5855f55422114056bb836fdb0aae25b0",
            "_dom_classes": [],
            "description": "Step",
            "_model_name": "ButtonModel",
            "button_style": "",
            "_view_module": "@jupyter-widgets/controls",
            "_model_module_version": "1.5.0",
            "tooltip": "",
            "_view_count": null,
            "disabled": false,
            "_view_module_version": "1.5.0",
            "layout": "IPY_MODEL_bacdbbc2bfff45c4a1820b4caf40974c",
            "_model_module": "@jupyter-widgets/controls",
            "icon": ""
          }
        },
        "d4550ef45e7b4206bbc1e57310d81a87": {
          "model_module": "@jupyter-widgets/controls",
          "model_name": "ButtonModel",
          "state": {
            "_view_name": "ButtonView",
            "style": "IPY_MODEL_ce2463dad6f0418081e057ad4b84a6c2",
            "_dom_classes": [],
            "description": "Run",
            "_model_name": "ButtonModel",
            "button_style": "",
            "_view_module": "@jupyter-widgets/controls",
            "_model_module_version": "1.5.0",
            "tooltip": "",
            "_view_count": null,
            "disabled": false,
            "_view_module_version": "1.5.0",
            "layout": "IPY_MODEL_82e665aa21604804a4ac888488fff39d",
            "_model_module": "@jupyter-widgets/controls",
            "icon": ""
          }
        },
        "5855f55422114056bb836fdb0aae25b0": {
          "model_module": "@jupyter-widgets/controls",
          "model_name": "ButtonStyleModel",
          "state": {
            "_view_name": "StyleView",
            "_model_name": "ButtonStyleModel",
            "_view_module": "@jupyter-widgets/base",
            "_model_module_version": "1.5.0",
            "_view_count": null,
            "button_color": null,
            "font_weight": "",
            "_view_module_version": "1.2.0",
            "_model_module": "@jupyter-widgets/controls"
          }
        },
        "bacdbbc2bfff45c4a1820b4caf40974c": {
          "model_module": "@jupyter-widgets/base",
          "model_name": "LayoutModel",
          "state": {
            "_view_name": "LayoutView",
            "grid_template_rows": null,
            "right": null,
            "justify_content": null,
            "_view_module": "@jupyter-widgets/base",
            "overflow": null,
            "_model_module_version": "1.2.0",
            "_view_count": null,
            "flex_flow": null,
            "width": null,
            "min_width": null,
            "border": null,
            "align_items": null,
            "bottom": null,
            "_model_module": "@jupyter-widgets/base",
            "top": null,
            "grid_column": null,
            "overflow_y": null,
            "overflow_x": null,
            "grid_auto_flow": null,
            "grid_area": null,
            "grid_template_columns": null,
            "flex": null,
            "_model_name": "LayoutModel",
            "justify_items": null,
            "grid_row": null,
            "max_height": null,
            "align_content": null,
            "visibility": null,
            "align_self": null,
            "height": null,
            "min_height": null,
            "padding": null,
            "grid_auto_rows": null,
            "grid_gap": null,
            "max_width": null,
            "order": null,
            "_view_module_version": "1.2.0",
            "grid_template_areas": null,
            "object_position": null,
            "object_fit": null,
            "grid_auto_columns": null,
            "margin": null,
            "display": null,
            "left": null
          }
        },
        "ce2463dad6f0418081e057ad4b84a6c2": {
          "model_module": "@jupyter-widgets/controls",
          "model_name": "ButtonStyleModel",
          "state": {
            "_view_name": "StyleView",
            "_model_name": "ButtonStyleModel",
            "_view_module": "@jupyter-widgets/base",
            "_model_module_version": "1.5.0",
            "_view_count": null,
            "button_color": null,
            "font_weight": "",
            "_view_module_version": "1.2.0",
            "_model_module": "@jupyter-widgets/controls"
          }
        },
        "82e665aa21604804a4ac888488fff39d": {
          "model_module": "@jupyter-widgets/base",
          "model_name": "LayoutModel",
          "state": {
            "_view_name": "LayoutView",
            "grid_template_rows": null,
            "right": null,
            "justify_content": null,
            "_view_module": "@jupyter-widgets/base",
            "overflow": null,
            "_model_module_version": "1.2.0",
            "_view_count": null,
            "flex_flow": null,
            "width": null,
            "min_width": null,
            "border": null,
            "align_items": null,
            "bottom": null,
            "_model_module": "@jupyter-widgets/base",
            "top": null,
            "grid_column": null,
            "overflow_y": null,
            "overflow_x": null,
            "grid_auto_flow": null,
            "grid_area": null,
            "grid_template_columns": null,
            "flex": null,
            "_model_name": "LayoutModel",
            "justify_items": null,
            "grid_row": null,
            "max_height": null,
            "align_content": null,
            "visibility": null,
            "align_self": null,
            "height": null,
            "min_height": null,
            "padding": null,
            "grid_auto_rows": null,
            "grid_gap": null,
            "max_width": null,
            "order": null,
            "_view_module_version": "1.2.0",
            "grid_template_areas": null,
            "object_position": null,
            "object_fit": null,
            "grid_auto_columns": null,
            "margin": null,
            "display": null,
            "left": null
          }
        },
        "9a4593fc43754210be77f8fd4ba74017": {
          "model_module": "@jupyter-widgets/output",
          "model_name": "OutputModel",
          "state": {
            "_view_name": "OutputView",
            "msg_id": "",
            "_dom_classes": [],
            "_model_name": "OutputModel",
            "outputs": [
              {
                "output_type": "stream",
                "metadata": {
                  "tags": []
                },
                "text": "XXXXXXXXXXXXXXXXXXXXXXXXXXXXXXXXXXXXXXXXXXXXXXXXXXXXXXX\nX                                                 X   X\nX  XX XXXX   X  XXXXX XXXXX  X  XXXX   XXXX X X   X X X\nX X                   X   X   X       X      SX X X X X\nX   XX X  XXXXXX XXXX X   XX  XXX  X    XX XXX  X XXX X\nX       X    E          X             X         X     X\nXXXXXXXXXXXXXXXXXXXXXXXXXXXXXXXXXXXXXXXXXXXXXXXXXXXXXXX\n---------------------------------------\nNodes expanded: 0\nPath length: 0\n",
                "stream": "stdout"
              }
            ],
            "_view_module": "@jupyter-widgets/output",
            "_model_module_version": "1.0.0",
            "_view_count": null,
            "_view_module_version": "1.0.0",
            "layout": "IPY_MODEL_3677894563f34dee8d7f211d86ad95ce",
            "_model_module": "@jupyter-widgets/output"
          }
        },
        "52337648b8c741deb01596d060d24ed7": {
          "model_module": "@jupyter-widgets/controls",
          "model_name": "HBoxModel",
          "state": {
            "_view_name": "HBoxView",
            "_dom_classes": [],
            "_model_name": "HBoxModel",
            "_view_module": "@jupyter-widgets/controls",
            "_model_module_version": "1.5.0",
            "_view_count": null,
            "_view_module_version": "1.5.0",
            "box_style": "",
            "layout": "IPY_MODEL_2b64060538c54c27a21e923fc87dc9a2",
            "_model_module": "@jupyter-widgets/controls",
            "children": [
              "IPY_MODEL_67015d4df8da4e71a5f682868b932619",
              "IPY_MODEL_d8a880135aec4cd7a97ec8093dab45b2"
            ]
          }
        },
        "2b64060538c54c27a21e923fc87dc9a2": {
          "model_module": "@jupyter-widgets/base",
          "model_name": "LayoutModel",
          "state": {
            "_view_name": "LayoutView",
            "grid_template_rows": null,
            "right": null,
            "justify_content": null,
            "_view_module": "@jupyter-widgets/base",
            "overflow": null,
            "_model_module_version": "1.2.0",
            "_view_count": null,
            "flex_flow": null,
            "width": null,
            "min_width": null,
            "border": null,
            "align_items": null,
            "bottom": null,
            "_model_module": "@jupyter-widgets/base",
            "top": null,
            "grid_column": null,
            "overflow_y": null,
            "overflow_x": null,
            "grid_auto_flow": null,
            "grid_area": null,
            "grid_template_columns": null,
            "flex": null,
            "_model_name": "LayoutModel",
            "justify_items": null,
            "grid_row": null,
            "max_height": null,
            "align_content": null,
            "visibility": null,
            "align_self": null,
            "height": null,
            "min_height": null,
            "padding": null,
            "grid_auto_rows": null,
            "grid_gap": null,
            "max_width": null,
            "order": null,
            "_view_module_version": "1.2.0",
            "grid_template_areas": null,
            "object_position": null,
            "object_fit": null,
            "grid_auto_columns": null,
            "margin": null,
            "display": null,
            "left": null
          }
        },
        "67015d4df8da4e71a5f682868b932619": {
          "model_module": "@jupyter-widgets/controls",
          "model_name": "ButtonModel",
          "state": {
            "_view_name": "ButtonView",
            "style": "IPY_MODEL_79431e7ea2d9438080cd957833d98d56",
            "_dom_classes": [],
            "description": "Step",
            "_model_name": "ButtonModel",
            "button_style": "",
            "_view_module": "@jupyter-widgets/controls",
            "_model_module_version": "1.5.0",
            "tooltip": "",
            "_view_count": null,
            "disabled": false,
            "_view_module_version": "1.5.0",
            "layout": "IPY_MODEL_3af829af8951448faf8ad05ebb59bc22",
            "_model_module": "@jupyter-widgets/controls",
            "icon": ""
          }
        },
        "d8a880135aec4cd7a97ec8093dab45b2": {
          "model_module": "@jupyter-widgets/controls",
          "model_name": "ButtonModel",
          "state": {
            "_view_name": "ButtonView",
            "style": "IPY_MODEL_b986a6eac8ac4df2b494e2cf8662821f",
            "_dom_classes": [],
            "description": "Run",
            "_model_name": "ButtonModel",
            "button_style": "",
            "_view_module": "@jupyter-widgets/controls",
            "_model_module_version": "1.5.0",
            "tooltip": "",
            "_view_count": null,
            "disabled": false,
            "_view_module_version": "1.5.0",
            "layout": "IPY_MODEL_702b4fd183b64b1a847a02002f7d6ef6",
            "_model_module": "@jupyter-widgets/controls",
            "icon": ""
          }
        },
        "79431e7ea2d9438080cd957833d98d56": {
          "model_module": "@jupyter-widgets/controls",
          "model_name": "ButtonStyleModel",
          "state": {
            "_view_name": "StyleView",
            "_model_name": "ButtonStyleModel",
            "_view_module": "@jupyter-widgets/base",
            "_model_module_version": "1.5.0",
            "_view_count": null,
            "button_color": null,
            "font_weight": "",
            "_view_module_version": "1.2.0",
            "_model_module": "@jupyter-widgets/controls"
          }
        },
        "3af829af8951448faf8ad05ebb59bc22": {
          "model_module": "@jupyter-widgets/base",
          "model_name": "LayoutModel",
          "state": {
            "_view_name": "LayoutView",
            "grid_template_rows": null,
            "right": null,
            "justify_content": null,
            "_view_module": "@jupyter-widgets/base",
            "overflow": null,
            "_model_module_version": "1.2.0",
            "_view_count": null,
            "flex_flow": null,
            "width": null,
            "min_width": null,
            "border": null,
            "align_items": null,
            "bottom": null,
            "_model_module": "@jupyter-widgets/base",
            "top": null,
            "grid_column": null,
            "overflow_y": null,
            "overflow_x": null,
            "grid_auto_flow": null,
            "grid_area": null,
            "grid_template_columns": null,
            "flex": null,
            "_model_name": "LayoutModel",
            "justify_items": null,
            "grid_row": null,
            "max_height": null,
            "align_content": null,
            "visibility": null,
            "align_self": null,
            "height": null,
            "min_height": null,
            "padding": null,
            "grid_auto_rows": null,
            "grid_gap": null,
            "max_width": null,
            "order": null,
            "_view_module_version": "1.2.0",
            "grid_template_areas": null,
            "object_position": null,
            "object_fit": null,
            "grid_auto_columns": null,
            "margin": null,
            "display": null,
            "left": null
          }
        },
        "b986a6eac8ac4df2b494e2cf8662821f": {
          "model_module": "@jupyter-widgets/controls",
          "model_name": "ButtonStyleModel",
          "state": {
            "_view_name": "StyleView",
            "_model_name": "ButtonStyleModel",
            "_view_module": "@jupyter-widgets/base",
            "_model_module_version": "1.5.0",
            "_view_count": null,
            "button_color": null,
            "font_weight": "",
            "_view_module_version": "1.2.0",
            "_model_module": "@jupyter-widgets/controls"
          }
        },
        "702b4fd183b64b1a847a02002f7d6ef6": {
          "model_module": "@jupyter-widgets/base",
          "model_name": "LayoutModel",
          "state": {
            "_view_name": "LayoutView",
            "grid_template_rows": null,
            "right": null,
            "justify_content": null,
            "_view_module": "@jupyter-widgets/base",
            "overflow": null,
            "_model_module_version": "1.2.0",
            "_view_count": null,
            "flex_flow": null,
            "width": null,
            "min_width": null,
            "border": null,
            "align_items": null,
            "bottom": null,
            "_model_module": "@jupyter-widgets/base",
            "top": null,
            "grid_column": null,
            "overflow_y": null,
            "overflow_x": null,
            "grid_auto_flow": null,
            "grid_area": null,
            "grid_template_columns": null,
            "flex": null,
            "_model_name": "LayoutModel",
            "justify_items": null,
            "grid_row": null,
            "max_height": null,
            "align_content": null,
            "visibility": null,
            "align_self": null,
            "height": null,
            "min_height": null,
            "padding": null,
            "grid_auto_rows": null,
            "grid_gap": null,
            "max_width": null,
            "order": null,
            "_view_module_version": "1.2.0",
            "grid_template_areas": null,
            "object_position": null,
            "object_fit": null,
            "grid_auto_columns": null,
            "margin": null,
            "display": null,
            "left": null
          }
        },
        "6d9356ac1a3c4df3adcca6faac75e731": {
          "model_module": "@jupyter-widgets/output",
          "model_name": "OutputModel",
          "state": {
            "_view_name": "OutputView",
            "msg_id": "",
            "_dom_classes": [],
            "_model_name": "OutputModel",
            "outputs": [
              {
                "output_type": "stream",
                "metadata": {
                  "tags": []
                },
                "text": "XXXXXXXXXXXXXXXXXXXXXXXXXXXXXXXXXXXXXXXXXXXXXXXXXXXXXXX\nX                                                 X   X\nX  XX XXXX   X  XXXXX XXXXX  X  XXXX   XXXX X X   X X X\nX X                   X   X   X       X      SX X X X X\nX   XX X  XXXXXX XXXX X   XX  XXX  X    XX XXX  X XXX X\nX       X    E          X             X         X     X\nXXXXXXXXXXXXXXXXXXXXXXXXXXXXXXXXXXXXXXXXXXXXXXXXXXXXXXX\n---------------------------------------\nNodes expanded: 0\nPath length: 0\n",
                "stream": "stdout"
              }
            ],
            "_view_module": "@jupyter-widgets/output",
            "_model_module_version": "1.0.0",
            "_view_count": null,
            "_view_module_version": "1.0.0",
            "layout": "IPY_MODEL_f090cb40b3cf4bd4ad0c388573eb07c7",
            "_model_module": "@jupyter-widgets/output"
          }
        },
        "01b6393b095145069f52e7a6cf28b2de": {
          "model_module": "@jupyter-widgets/controls",
          "model_name": "HBoxModel",
          "state": {
            "_view_name": "HBoxView",
            "_dom_classes": [],
            "_model_name": "HBoxModel",
            "_view_module": "@jupyter-widgets/controls",
            "_model_module_version": "1.5.0",
            "_view_count": null,
            "_view_module_version": "1.5.0",
            "box_style": "",
            "layout": "IPY_MODEL_80a0aba1c6b744688f30b03200ae354a",
            "_model_module": "@jupyter-widgets/controls",
            "children": [
              "IPY_MODEL_a0248912bb84406e8501fd91ba1a5b46",
              "IPY_MODEL_616f1076a7aa491bad9a1343e03e4556"
            ]
          }
        },
        "80a0aba1c6b744688f30b03200ae354a": {
          "model_module": "@jupyter-widgets/base",
          "model_name": "LayoutModel",
          "state": {
            "_view_name": "LayoutView",
            "grid_template_rows": null,
            "right": null,
            "justify_content": null,
            "_view_module": "@jupyter-widgets/base",
            "overflow": null,
            "_model_module_version": "1.2.0",
            "_view_count": null,
            "flex_flow": null,
            "width": null,
            "min_width": null,
            "border": null,
            "align_items": null,
            "bottom": null,
            "_model_module": "@jupyter-widgets/base",
            "top": null,
            "grid_column": null,
            "overflow_y": null,
            "overflow_x": null,
            "grid_auto_flow": null,
            "grid_area": null,
            "grid_template_columns": null,
            "flex": null,
            "_model_name": "LayoutModel",
            "justify_items": null,
            "grid_row": null,
            "max_height": null,
            "align_content": null,
            "visibility": null,
            "align_self": null,
            "height": null,
            "min_height": null,
            "padding": null,
            "grid_auto_rows": null,
            "grid_gap": null,
            "max_width": null,
            "order": null,
            "_view_module_version": "1.2.0",
            "grid_template_areas": null,
            "object_position": null,
            "object_fit": null,
            "grid_auto_columns": null,
            "margin": null,
            "display": null,
            "left": null
          }
        },
        "a0248912bb84406e8501fd91ba1a5b46": {
          "model_module": "@jupyter-widgets/controls",
          "model_name": "ButtonModel",
          "state": {
            "_view_name": "ButtonView",
            "style": "IPY_MODEL_2522a5441f4542fbb8be3e4d7c22194d",
            "_dom_classes": [],
            "description": "Step",
            "_model_name": "ButtonModel",
            "button_style": "",
            "_view_module": "@jupyter-widgets/controls",
            "_model_module_version": "1.5.0",
            "tooltip": "",
            "_view_count": null,
            "disabled": false,
            "_view_module_version": "1.5.0",
            "layout": "IPY_MODEL_9731d225705043d2a16592619ebb5e30",
            "_model_module": "@jupyter-widgets/controls",
            "icon": ""
          }
        },
        "616f1076a7aa491bad9a1343e03e4556": {
          "model_module": "@jupyter-widgets/controls",
          "model_name": "ButtonModel",
          "state": {
            "_view_name": "ButtonView",
            "style": "IPY_MODEL_de0f62189c3646b2ba259bf6c49fce2f",
            "_dom_classes": [],
            "description": "Run",
            "_model_name": "ButtonModel",
            "button_style": "",
            "_view_module": "@jupyter-widgets/controls",
            "_model_module_version": "1.5.0",
            "tooltip": "",
            "_view_count": null,
            "disabled": false,
            "_view_module_version": "1.5.0",
            "layout": "IPY_MODEL_8d62f02a98ed48c39c03289216c29ef7",
            "_model_module": "@jupyter-widgets/controls",
            "icon": ""
          }
        },
        "2522a5441f4542fbb8be3e4d7c22194d": {
          "model_module": "@jupyter-widgets/controls",
          "model_name": "ButtonStyleModel",
          "state": {
            "_view_name": "StyleView",
            "_model_name": "ButtonStyleModel",
            "_view_module": "@jupyter-widgets/base",
            "_model_module_version": "1.5.0",
            "_view_count": null,
            "button_color": null,
            "font_weight": "",
            "_view_module_version": "1.2.0",
            "_model_module": "@jupyter-widgets/controls"
          }
        },
        "9731d225705043d2a16592619ebb5e30": {
          "model_module": "@jupyter-widgets/base",
          "model_name": "LayoutModel",
          "state": {
            "_view_name": "LayoutView",
            "grid_template_rows": null,
            "right": null,
            "justify_content": null,
            "_view_module": "@jupyter-widgets/base",
            "overflow": null,
            "_model_module_version": "1.2.0",
            "_view_count": null,
            "flex_flow": null,
            "width": null,
            "min_width": null,
            "border": null,
            "align_items": null,
            "bottom": null,
            "_model_module": "@jupyter-widgets/base",
            "top": null,
            "grid_column": null,
            "overflow_y": null,
            "overflow_x": null,
            "grid_auto_flow": null,
            "grid_area": null,
            "grid_template_columns": null,
            "flex": null,
            "_model_name": "LayoutModel",
            "justify_items": null,
            "grid_row": null,
            "max_height": null,
            "align_content": null,
            "visibility": null,
            "align_self": null,
            "height": null,
            "min_height": null,
            "padding": null,
            "grid_auto_rows": null,
            "grid_gap": null,
            "max_width": null,
            "order": null,
            "_view_module_version": "1.2.0",
            "grid_template_areas": null,
            "object_position": null,
            "object_fit": null,
            "grid_auto_columns": null,
            "margin": null,
            "display": null,
            "left": null
          }
        },
        "de0f62189c3646b2ba259bf6c49fce2f": {
          "model_module": "@jupyter-widgets/controls",
          "model_name": "ButtonStyleModel",
          "state": {
            "_view_name": "StyleView",
            "_model_name": "ButtonStyleModel",
            "_view_module": "@jupyter-widgets/base",
            "_model_module_version": "1.5.0",
            "_view_count": null,
            "button_color": null,
            "font_weight": "",
            "_view_module_version": "1.2.0",
            "_model_module": "@jupyter-widgets/controls"
          }
        },
        "8d62f02a98ed48c39c03289216c29ef7": {
          "model_module": "@jupyter-widgets/base",
          "model_name": "LayoutModel",
          "state": {
            "_view_name": "LayoutView",
            "grid_template_rows": null,
            "right": null,
            "justify_content": null,
            "_view_module": "@jupyter-widgets/base",
            "overflow": null,
            "_model_module_version": "1.2.0",
            "_view_count": null,
            "flex_flow": null,
            "width": null,
            "min_width": null,
            "border": null,
            "align_items": null,
            "bottom": null,
            "_model_module": "@jupyter-widgets/base",
            "top": null,
            "grid_column": null,
            "overflow_y": null,
            "overflow_x": null,
            "grid_auto_flow": null,
            "grid_area": null,
            "grid_template_columns": null,
            "flex": null,
            "_model_name": "LayoutModel",
            "justify_items": null,
            "grid_row": null,
            "max_height": null,
            "align_content": null,
            "visibility": null,
            "align_self": null,
            "height": null,
            "min_height": null,
            "padding": null,
            "grid_auto_rows": null,
            "grid_gap": null,
            "max_width": null,
            "order": null,
            "_view_module_version": "1.2.0",
            "grid_template_areas": null,
            "object_position": null,
            "object_fit": null,
            "grid_auto_columns": null,
            "margin": null,
            "display": null,
            "left": null
          }
        },
        "91a3438507a2411d8764ba62039141b6": {
          "model_module": "@jupyter-widgets/output",
          "model_name": "OutputModel",
          "state": {
            "_view_name": "OutputView",
            "msg_id": "",
            "_dom_classes": [],
            "_model_name": "OutputModel",
            "outputs": [
              {
                "output_type": "stream",
                "metadata": {
                  "tags": []
                },
                "text": "XXXXXXXXXXXXXXXXXXXXXXXXXXXXXXXXXXXXXXXXXXXXXXXXXXXXXXX\nX                                                 X   X\nX  XX XXXX   X  XXXXX XXXXX  X  XXXX   XXXX X X   X X X\nX X                   X   X   X       X      SX X X X X\nX   XX X  XXXXXX XXXX X   XX  XXX  X    XX XXX  X XXX X\nX       X    E          X             X         X     X\nXXXXXXXXXXXXXXXXXXXXXXXXXXXXXXXXXXXXXXXXXXXXXXXXXXXXXXX\n---------------------------------------\nNodes expanded: 0\nPath length: 0\n",
                "stream": "stdout"
              }
            ],
            "_view_module": "@jupyter-widgets/output",
            "_model_module_version": "1.0.0",
            "_view_count": null,
            "_view_module_version": "1.0.0",
            "layout": "IPY_MODEL_482d077a70de42d4a28510623b51d6f3",
            "_model_module": "@jupyter-widgets/output"
          }
        },
        "2b9cce0336724e28b73317f1db8bf6ae": {
          "model_module": "@jupyter-widgets/controls",
          "model_name": "HBoxModel",
          "state": {
            "_view_name": "HBoxView",
            "_dom_classes": [],
            "_model_name": "HBoxModel",
            "_view_module": "@jupyter-widgets/controls",
            "_model_module_version": "1.5.0",
            "_view_count": null,
            "_view_module_version": "1.5.0",
            "box_style": "",
            "layout": "IPY_MODEL_3897355da11048e79c36ab7211f6a5d7",
            "_model_module": "@jupyter-widgets/controls",
            "children": [
              "IPY_MODEL_fe2e009279c549d29c89fadc6e25e2e8",
              "IPY_MODEL_b112d8f2ac7b4a8ab25b378fcefe2903"
            ]
          }
        },
        "3897355da11048e79c36ab7211f6a5d7": {
          "model_module": "@jupyter-widgets/base",
          "model_name": "LayoutModel",
          "state": {
            "_view_name": "LayoutView",
            "grid_template_rows": null,
            "right": null,
            "justify_content": null,
            "_view_module": "@jupyter-widgets/base",
            "overflow": null,
            "_model_module_version": "1.2.0",
            "_view_count": null,
            "flex_flow": null,
            "width": null,
            "min_width": null,
            "border": null,
            "align_items": null,
            "bottom": null,
            "_model_module": "@jupyter-widgets/base",
            "top": null,
            "grid_column": null,
            "overflow_y": null,
            "overflow_x": null,
            "grid_auto_flow": null,
            "grid_area": null,
            "grid_template_columns": null,
            "flex": null,
            "_model_name": "LayoutModel",
            "justify_items": null,
            "grid_row": null,
            "max_height": null,
            "align_content": null,
            "visibility": null,
            "align_self": null,
            "height": null,
            "min_height": null,
            "padding": null,
            "grid_auto_rows": null,
            "grid_gap": null,
            "max_width": null,
            "order": null,
            "_view_module_version": "1.2.0",
            "grid_template_areas": null,
            "object_position": null,
            "object_fit": null,
            "grid_auto_columns": null,
            "margin": null,
            "display": null,
            "left": null
          }
        },
        "fe2e009279c549d29c89fadc6e25e2e8": {
          "model_module": "@jupyter-widgets/controls",
          "model_name": "ButtonModel",
          "state": {
            "_view_name": "ButtonView",
            "style": "IPY_MODEL_0df42d1a2e744727a36e64aa54a86021",
            "_dom_classes": [],
            "description": "Step",
            "_model_name": "ButtonModel",
            "button_style": "",
            "_view_module": "@jupyter-widgets/controls",
            "_model_module_version": "1.5.0",
            "tooltip": "",
            "_view_count": null,
            "disabled": false,
            "_view_module_version": "1.5.0",
            "layout": "IPY_MODEL_86dd55901864481dae5b6ab5ee29157c",
            "_model_module": "@jupyter-widgets/controls",
            "icon": ""
          }
        },
        "b112d8f2ac7b4a8ab25b378fcefe2903": {
          "model_module": "@jupyter-widgets/controls",
          "model_name": "ButtonModel",
          "state": {
            "_view_name": "ButtonView",
            "style": "IPY_MODEL_561c1e467b2342deb5969783630aeeb8",
            "_dom_classes": [],
            "description": "Run",
            "_model_name": "ButtonModel",
            "button_style": "",
            "_view_module": "@jupyter-widgets/controls",
            "_model_module_version": "1.5.0",
            "tooltip": "",
            "_view_count": null,
            "disabled": false,
            "_view_module_version": "1.5.0",
            "layout": "IPY_MODEL_67c1fbe07852488f9f8577c6e8b48371",
            "_model_module": "@jupyter-widgets/controls",
            "icon": ""
          }
        },
        "0df42d1a2e744727a36e64aa54a86021": {
          "model_module": "@jupyter-widgets/controls",
          "model_name": "ButtonStyleModel",
          "state": {
            "_view_name": "StyleView",
            "_model_name": "ButtonStyleModel",
            "_view_module": "@jupyter-widgets/base",
            "_model_module_version": "1.5.0",
            "_view_count": null,
            "button_color": null,
            "font_weight": "",
            "_view_module_version": "1.2.0",
            "_model_module": "@jupyter-widgets/controls"
          }
        },
        "86dd55901864481dae5b6ab5ee29157c": {
          "model_module": "@jupyter-widgets/base",
          "model_name": "LayoutModel",
          "state": {
            "_view_name": "LayoutView",
            "grid_template_rows": null,
            "right": null,
            "justify_content": null,
            "_view_module": "@jupyter-widgets/base",
            "overflow": null,
            "_model_module_version": "1.2.0",
            "_view_count": null,
            "flex_flow": null,
            "width": null,
            "min_width": null,
            "border": null,
            "align_items": null,
            "bottom": null,
            "_model_module": "@jupyter-widgets/base",
            "top": null,
            "grid_column": null,
            "overflow_y": null,
            "overflow_x": null,
            "grid_auto_flow": null,
            "grid_area": null,
            "grid_template_columns": null,
            "flex": null,
            "_model_name": "LayoutModel",
            "justify_items": null,
            "grid_row": null,
            "max_height": null,
            "align_content": null,
            "visibility": null,
            "align_self": null,
            "height": null,
            "min_height": null,
            "padding": null,
            "grid_auto_rows": null,
            "grid_gap": null,
            "max_width": null,
            "order": null,
            "_view_module_version": "1.2.0",
            "grid_template_areas": null,
            "object_position": null,
            "object_fit": null,
            "grid_auto_columns": null,
            "margin": null,
            "display": null,
            "left": null
          }
        },
        "561c1e467b2342deb5969783630aeeb8": {
          "model_module": "@jupyter-widgets/controls",
          "model_name": "ButtonStyleModel",
          "state": {
            "_view_name": "StyleView",
            "_model_name": "ButtonStyleModel",
            "_view_module": "@jupyter-widgets/base",
            "_model_module_version": "1.5.0",
            "_view_count": null,
            "button_color": null,
            "font_weight": "",
            "_view_module_version": "1.2.0",
            "_model_module": "@jupyter-widgets/controls"
          }
        },
        "67c1fbe07852488f9f8577c6e8b48371": {
          "model_module": "@jupyter-widgets/base",
          "model_name": "LayoutModel",
          "state": {
            "_view_name": "LayoutView",
            "grid_template_rows": null,
            "right": null,
            "justify_content": null,
            "_view_module": "@jupyter-widgets/base",
            "overflow": null,
            "_model_module_version": "1.2.0",
            "_view_count": null,
            "flex_flow": null,
            "width": null,
            "min_width": null,
            "border": null,
            "align_items": null,
            "bottom": null,
            "_model_module": "@jupyter-widgets/base",
            "top": null,
            "grid_column": null,
            "overflow_y": null,
            "overflow_x": null,
            "grid_auto_flow": null,
            "grid_area": null,
            "grid_template_columns": null,
            "flex": null,
            "_model_name": "LayoutModel",
            "justify_items": null,
            "grid_row": null,
            "max_height": null,
            "align_content": null,
            "visibility": null,
            "align_self": null,
            "height": null,
            "min_height": null,
            "padding": null,
            "grid_auto_rows": null,
            "grid_gap": null,
            "max_width": null,
            "order": null,
            "_view_module_version": "1.2.0",
            "grid_template_areas": null,
            "object_position": null,
            "object_fit": null,
            "grid_auto_columns": null,
            "margin": null,
            "display": null,
            "left": null
          }
        },
        "d856f172317e4549a5ffc6d3a76accc4": {
          "model_module": "@jupyter-widgets/output",
          "model_name": "OutputModel",
          "state": {
            "_view_name": "OutputView",
            "msg_id": "",
            "_dom_classes": [],
            "_model_name": "OutputModel",
            "outputs": [
              {
                "output_type": "stream",
                "metadata": {
                  "tags": []
                },
                "text": "XXXXXXXXXXXXXXXXXXXXXXXXXXXXXXXXXXXXXXXXXXXXXXXXXXXXXXX\nX                                                 X   X\nX  XX XXXX   X  XXXXX XXXXX  X  XXXX   XXXX X X   X X X\nX X                   X   X   X       X      SX X X X X\nX   XX X  XXXXXX XXXX X   XX  XXX  X    XX XXX  X XXX X\nX       X    E          X             X         X     X\nXXXXXXXXXXXXXXXXXXXXXXXXXXXXXXXXXXXXXXXXXXXXXXXXXXXXXXX\n---------------------------------------\nNodes expanded: 0\nPath length: 0\n",
                "stream": "stdout"
              }
            ],
            "_view_module": "@jupyter-widgets/output",
            "_model_module_version": "1.0.0",
            "_view_count": null,
            "_view_module_version": "1.0.0",
            "layout": "IPY_MODEL_5e95f2b8260f4ec38ef28860c376338e",
            "_model_module": "@jupyter-widgets/output"
          }
        },
        "aedd9083ad0c49e0a3cc978bd2a2f5ca": {
          "model_module": "@jupyter-widgets/controls",
          "model_name": "HBoxModel",
          "state": {
            "_view_name": "HBoxView",
            "_dom_classes": [],
            "_model_name": "HBoxModel",
            "_view_module": "@jupyter-widgets/controls",
            "_model_module_version": "1.5.0",
            "_view_count": null,
            "_view_module_version": "1.5.0",
            "box_style": "",
            "layout": "IPY_MODEL_d06967df111a4f11b0b46aa76420c2b5",
            "_model_module": "@jupyter-widgets/controls",
            "children": [
              "IPY_MODEL_98ff87005bbd423abfe6888fc33b78a9",
              "IPY_MODEL_70eb5273c09e4ed7abd613128e04113c"
            ]
          }
        },
        "d06967df111a4f11b0b46aa76420c2b5": {
          "model_module": "@jupyter-widgets/base",
          "model_name": "LayoutModel",
          "state": {
            "_view_name": "LayoutView",
            "grid_template_rows": null,
            "right": null,
            "justify_content": null,
            "_view_module": "@jupyter-widgets/base",
            "overflow": null,
            "_model_module_version": "1.2.0",
            "_view_count": null,
            "flex_flow": null,
            "width": null,
            "min_width": null,
            "border": null,
            "align_items": null,
            "bottom": null,
            "_model_module": "@jupyter-widgets/base",
            "top": null,
            "grid_column": null,
            "overflow_y": null,
            "overflow_x": null,
            "grid_auto_flow": null,
            "grid_area": null,
            "grid_template_columns": null,
            "flex": null,
            "_model_name": "LayoutModel",
            "justify_items": null,
            "grid_row": null,
            "max_height": null,
            "align_content": null,
            "visibility": null,
            "align_self": null,
            "height": null,
            "min_height": null,
            "padding": null,
            "grid_auto_rows": null,
            "grid_gap": null,
            "max_width": null,
            "order": null,
            "_view_module_version": "1.2.0",
            "grid_template_areas": null,
            "object_position": null,
            "object_fit": null,
            "grid_auto_columns": null,
            "margin": null,
            "display": null,
            "left": null
          }
        },
        "98ff87005bbd423abfe6888fc33b78a9": {
          "model_module": "@jupyter-widgets/controls",
          "model_name": "ButtonModel",
          "state": {
            "_view_name": "ButtonView",
            "style": "IPY_MODEL_922aedf9a79b42348aa03ed59544722e",
            "_dom_classes": [],
            "description": "Step",
            "_model_name": "ButtonModel",
            "button_style": "",
            "_view_module": "@jupyter-widgets/controls",
            "_model_module_version": "1.5.0",
            "tooltip": "",
            "_view_count": null,
            "disabled": false,
            "_view_module_version": "1.5.0",
            "layout": "IPY_MODEL_c6114277d28d403b9a63a5ef4f8a325d",
            "_model_module": "@jupyter-widgets/controls",
            "icon": ""
          }
        },
        "70eb5273c09e4ed7abd613128e04113c": {
          "model_module": "@jupyter-widgets/controls",
          "model_name": "ButtonModel",
          "state": {
            "_view_name": "ButtonView",
            "style": "IPY_MODEL_70951fbcfb7245f2bbda3d809ef77dfb",
            "_dom_classes": [],
            "description": "Run",
            "_model_name": "ButtonModel",
            "button_style": "",
            "_view_module": "@jupyter-widgets/controls",
            "_model_module_version": "1.5.0",
            "tooltip": "",
            "_view_count": null,
            "disabled": false,
            "_view_module_version": "1.5.0",
            "layout": "IPY_MODEL_c45da2ab1bb14f1c8659b3535ad58238",
            "_model_module": "@jupyter-widgets/controls",
            "icon": ""
          }
        },
        "922aedf9a79b42348aa03ed59544722e": {
          "model_module": "@jupyter-widgets/controls",
          "model_name": "ButtonStyleModel",
          "state": {
            "_view_name": "StyleView",
            "_model_name": "ButtonStyleModel",
            "_view_module": "@jupyter-widgets/base",
            "_model_module_version": "1.5.0",
            "_view_count": null,
            "button_color": null,
            "font_weight": "",
            "_view_module_version": "1.2.0",
            "_model_module": "@jupyter-widgets/controls"
          }
        },
        "c6114277d28d403b9a63a5ef4f8a325d": {
          "model_module": "@jupyter-widgets/base",
          "model_name": "LayoutModel",
          "state": {
            "_view_name": "LayoutView",
            "grid_template_rows": null,
            "right": null,
            "justify_content": null,
            "_view_module": "@jupyter-widgets/base",
            "overflow": null,
            "_model_module_version": "1.2.0",
            "_view_count": null,
            "flex_flow": null,
            "width": null,
            "min_width": null,
            "border": null,
            "align_items": null,
            "bottom": null,
            "_model_module": "@jupyter-widgets/base",
            "top": null,
            "grid_column": null,
            "overflow_y": null,
            "overflow_x": null,
            "grid_auto_flow": null,
            "grid_area": null,
            "grid_template_columns": null,
            "flex": null,
            "_model_name": "LayoutModel",
            "justify_items": null,
            "grid_row": null,
            "max_height": null,
            "align_content": null,
            "visibility": null,
            "align_self": null,
            "height": null,
            "min_height": null,
            "padding": null,
            "grid_auto_rows": null,
            "grid_gap": null,
            "max_width": null,
            "order": null,
            "_view_module_version": "1.2.0",
            "grid_template_areas": null,
            "object_position": null,
            "object_fit": null,
            "grid_auto_columns": null,
            "margin": null,
            "display": null,
            "left": null
          }
        },
        "70951fbcfb7245f2bbda3d809ef77dfb": {
          "model_module": "@jupyter-widgets/controls",
          "model_name": "ButtonStyleModel",
          "state": {
            "_view_name": "StyleView",
            "_model_name": "ButtonStyleModel",
            "_view_module": "@jupyter-widgets/base",
            "_model_module_version": "1.5.0",
            "_view_count": null,
            "button_color": null,
            "font_weight": "",
            "_view_module_version": "1.2.0",
            "_model_module": "@jupyter-widgets/controls"
          }
        },
        "c45da2ab1bb14f1c8659b3535ad58238": {
          "model_module": "@jupyter-widgets/base",
          "model_name": "LayoutModel",
          "state": {
            "_view_name": "LayoutView",
            "grid_template_rows": null,
            "right": null,
            "justify_content": null,
            "_view_module": "@jupyter-widgets/base",
            "overflow": null,
            "_model_module_version": "1.2.0",
            "_view_count": null,
            "flex_flow": null,
            "width": null,
            "min_width": null,
            "border": null,
            "align_items": null,
            "bottom": null,
            "_model_module": "@jupyter-widgets/base",
            "top": null,
            "grid_column": null,
            "overflow_y": null,
            "overflow_x": null,
            "grid_auto_flow": null,
            "grid_area": null,
            "grid_template_columns": null,
            "flex": null,
            "_model_name": "LayoutModel",
            "justify_items": null,
            "grid_row": null,
            "max_height": null,
            "align_content": null,
            "visibility": null,
            "align_self": null,
            "height": null,
            "min_height": null,
            "padding": null,
            "grid_auto_rows": null,
            "grid_gap": null,
            "max_width": null,
            "order": null,
            "_view_module_version": "1.2.0",
            "grid_template_areas": null,
            "object_position": null,
            "object_fit": null,
            "grid_auto_columns": null,
            "margin": null,
            "display": null,
            "left": null
          }
        },
        "c7b5acbf03ea4e83bed035a5c8e056e9": {
          "model_module": "@jupyter-widgets/output",
          "model_name": "OutputModel",
          "state": {
            "_view_name": "OutputView",
            "msg_id": "",
            "_dom_classes": [],
            "_model_name": "OutputModel",
            "outputs": [
              {
                "output_type": "stream",
                "metadata": {
                  "tags": []
                },
                "text": "XXXXXXXXXXXXXXXXXXXXXXXXXXXXXXXXXXXXXXXXXXXXXXXXXXXXXXX\nX                                                 X   X\nX  XX XXXX   X  XXXXX XXXXX  X  XXXX   XXXX X X   X X X\nX X                   X   X   X       X      SX X X X X\nX   XX X  XXXXXX XXXX X   XX  XXX  X    XX XXX  X XXX X\nX       X    E          X             X         X     X\nXXXXXXXXXXXXXXXXXXXXXXXXXXXXXXXXXXXXXXXXXXXXXXXXXXXXXXX\n---------------------------------------\nNodes expanded: 0\nPath length: 0\n",
                "stream": "stdout"
              }
            ],
            "_view_module": "@jupyter-widgets/output",
            "_model_module_version": "1.0.0",
            "_view_count": null,
            "_view_module_version": "1.0.0",
            "layout": "IPY_MODEL_a1c47b64bdfd45b3838636ab44eca6a2",
            "_model_module": "@jupyter-widgets/output"
          }
        }
      }
    }
  },
  "cells": [
    {
      "cell_type": "code",
      "metadata": {
        "id": "EJhmEO9umcf4",
        "colab_type": "code",
        "colab": {}
      },
      "source": [
        "%%bash\n",
        "wget -O \"mazes.zip\" \"https://drive.google.com/uc?export=download&id=1mfO9IOHo-KEZApbQb7svy8OYerYI24vH\" >/dev/null 2>&1\n",
        "unzip \"mazes.zip\" >/dev/null 2>&1"
      ],
      "execution_count": 0,
      "outputs": []
    },
    {
      "cell_type": "code",
      "metadata": {
        "id": "TMAOjVD-uGzt",
        "colab_type": "code",
        "colab": {}
      },
      "source": [
        "import ipywidgets as widgets\n",
        "from IPython.display import display, clear_output\n",
        "from random import randrange\n",
        "from time import sleep"
      ],
      "execution_count": 0,
      "outputs": []
    },
    {
      "cell_type": "code",
      "metadata": {
        "id": "9txxGja3Nn7L",
        "colab_type": "code",
        "colab": {}
      },
      "source": [
        "ANIMATION = True\n",
        "ANIMATION_FPS = 5\n",
        "FILENAME = \"36.txt\"\n",
        "\n",
        "START = \"S\"\n",
        "END = \"E\"\n",
        "WALL = \"X\"\n",
        "PATH = \"o\"\n",
        "OPEN_NODE = \"#\"\n",
        "VISITED_NODE = \"*\""
      ],
      "execution_count": 0,
      "outputs": []
    },
    {
      "cell_type": "code",
      "metadata": {
        "id": "g8zyFxMfuI6C",
        "colab_type": "code",
        "colab": {}
      },
      "source": [
        "class Node:\n",
        "  def __init__(self, parent, position, end):\n",
        "    # keeping track of parent for the purposes of creating a path\n",
        "    self.parent = parent;\n",
        "    self.x, self.y = position\n",
        "    # compute heuristic for greedy search & a star\n",
        "    self.heuristic = abs(self.x - end[0]) + abs(self.y - end[1])\n",
        "    # compute distance for dijkstra & a star\n",
        "    self.dist = parent.dist + 1 if parent is not None else 0"
      ],
      "execution_count": 0,
      "outputs": []
    },
    {
      "cell_type": "code",
      "metadata": {
        "id": "_ZEgA-lpFkrc",
        "colab_type": "code",
        "colab": {}
      },
      "source": [
        "class BaseAlgorithm:\n",
        "  def __init__(self):\n",
        "    # variables for visualization\n",
        "    self.output = widgets.Output()\n",
        "    step_button = widgets.Button(description=\"Step\")\n",
        "    run_button = widgets.Button(description=\"Run\")\n",
        "    step_button.on_click(self.step)\n",
        "    run_button.on_click(self.run)\n",
        "    display(widgets.HBox((step_button, run_button)), self.output)\n",
        "    self.board = []\n",
        "\n",
        "    # variables for the algorithm\n",
        "    self.start = []\n",
        "    self.end = []\n",
        "    self.open_nodes = []\n",
        "    self.visited_nodes = []\n",
        "    self.graph = []\n",
        "    self.path = []\n",
        "    self.finished = False\n",
        "\n",
        "\n",
        "  def read_board(self, filename):\n",
        "    board_heigth = sum(1 for line in open(filename)) - 2\n",
        "    with open(filename) as f:\n",
        "      # reads the board\n",
        "      for _ in range(board_heigth):\n",
        "        self.board.append(f.readline())\n",
        "      self.board = list(map(list, self.board))\n",
        "\n",
        "      # reads start and end coordinates\n",
        "      self.start = [int(pos) for pos in f.readline()[6:].split(\",\")]\n",
        "      self.end = [int(pos) for pos in f.readline()[4:].split(\",\")]\n",
        "    \n",
        "    # creates an empty graph and marks the walls\n",
        "    self.graph = [[[] for _ in self.board[0]] for _ in self.board]\n",
        "    for y, row in enumerate(self.board):\n",
        "      for x, char in enumerate(row):\n",
        "        if char == 'X':\n",
        "          self.graph[y][x] = [None]\n",
        "\n",
        "    # processes the first node and shows the board\n",
        "    self.new_node(self.start[0], self.start[1], None)\n",
        "    self.update_board()\n",
        "\n",
        "\n",
        "  # step function, gets called by the button\n",
        "  # selects node, expands it, saves it and visualizes the step\n",
        "  def step(self, _=None):\n",
        "    if not self.finished:\n",
        "      n = self.select_node()\n",
        "      self.expand_node(n)\n",
        "      self.visited_nodes.append(n)\n",
        "      self.update_board()\n",
        "\n",
        "\n",
        "  # does steps until the end node is found\n",
        "  def run(self, _=None):\n",
        "    while not self.finished:\n",
        "      self.step()\n",
        "      sleep(ANIMATION / ANIMATION_FPS)\n",
        "\n",
        "\n",
        "  def expand_node(self, node):\n",
        "    # goes throught the neighboring nodes\n",
        "    for x, y in zip([-1,0,1,0],[0,1,0,-1]):\n",
        "      y += node.y\n",
        "      x += node.x\n",
        "\n",
        "      # if the neighboring node hasn't been found yet\n",
        "      if len(self.graph[y][x]) == 0:\n",
        "        self.new_node(x, y, node)\n",
        "        \n",
        "      else:\n",
        "        neighbor_node = self.graph[y][x][0]\n",
        "        # the neighboring node is not a wall and it has been found but not expanded yet\n",
        "        if neighbor_node is not None and neighbor_node in self.open_nodes:\n",
        "          # check if the distance to this node is now shorter\n",
        "          # (this is for dijkstra but it will never get executed because\n",
        "          #  all the edges in these mazes have the length of 1)\n",
        "          if node.dist + 1 < neighbor_node.dist:\n",
        "            # update the distance and the priority queue\n",
        "            neighbor_node.dist = node.dist + 1\n",
        "            self.open_nodes.sort(key=lambda n: n.dist)\n",
        "\n",
        "\n",
        "  # initializes a newly expanded node\n",
        "  def new_node(self, x, y, parent):\n",
        "        # initializes the node and adds it to the graph & open_nodes\n",
        "        n = Node(parent, [x, y], self.end)\n",
        "        self.graph[y][x].append(n)\n",
        "        self.open_nodes.append(n)\n",
        "\n",
        "        # creates a path and ends, if it is the end node\n",
        "        if n.x == self.end[0] and n.y == self.end[1]:\n",
        "          self.finished = True\n",
        "          self.create_path(n)\n",
        "\n",
        "\n",
        "  # creates a path of nodes from the end node to the start node\n",
        "  def create_path(self, end_node):\n",
        "    p = end_node.parent\n",
        "    while p is not None and p.parent is not None:\n",
        "      self.path.append(p)\n",
        "      p = p.parent\n",
        "\n",
        "\n",
        "  def update_board(self):\n",
        "      if ANIMATION or self.finished:\n",
        "        with self.output:\n",
        "            clear_output()\n",
        "\n",
        "            # marks all visited nodes\n",
        "            for n in self.visited_nodes:\n",
        "              self.board[n.y][n.x] = VISITED_NODE\n",
        "\n",
        "            # marks all open nodes\n",
        "            for n in self.open_nodes:\n",
        "              self.board[n.y][n.x] = OPEN_NODE\n",
        "            \n",
        "            # marks the path (if there is one)\n",
        "            for n in self.path:\n",
        "              self.board[n.y][n.x] = PATH\n",
        "            \n",
        "            # marks the start and the end\n",
        "            self.board[self.start[1]][self.start[0]] = START\n",
        "            self.board[self.end[1]][self.end[0]] = END\n",
        "\n",
        "            # prints the board\n",
        "            for line in self.board:\n",
        "              print(\"\".join(line[:len(line) - 1]))\n",
        "            \n",
        "            # prints status\n",
        "            print(\"---------------------------------------\")\n",
        "            print(\"Nodes expanded: \" + str(len(self.visited_nodes)))\n",
        "            print(\"Path length: \" + str(len(self.path)))\n",
        "            \n"
      ],
      "execution_count": 0,
      "outputs": []
    },
    {
      "cell_type": "code",
      "metadata": {
        "id": "uSvQJTmkIYAn",
        "colab_type": "code",
        "outputId": "4d6eb425-144b-4ffb-fd54-681681eb3734",
        "colab": {
          "base_uri": "https://localhost:8080/",
          "height": 233,
          "referenced_widgets": [
            "51bef73ba5ee4186b8c850b1defbb4c1",
            "111abdce3893458eb6ae024c8cc3fc02",
            "eadd5b872c474223b870560b373d3860",
            "63c74ac728bf46709713470886724ada",
            "3d6e405c60014a45b0119cd7fe9ffb1b",
            "06d9f48dcecc4440a3fdcbcdac08d5c1",
            "c96998bbbe0247fc835843617bc85061",
            "deb5797f9171476181f3b5530d22ef49",
            "f59799cf41524cc7a37c02243ff697a7"
          ]
        }
      },
      "source": [
        "class RandomSearch(BaseAlgorithm):\n",
        "  \n",
        "  # selects a random open node\n",
        "  def select_node(self):\n",
        "    return self.open_nodes.pop(randrange(0, len(self.open_nodes)))\n",
        "\n",
        "RandomSearch().read_board(FILENAME)"
      ],
      "execution_count": 0,
      "outputs": [
        {
          "output_type": "display_data",
          "data": {
            "application/vnd.jupyter.widget-view+json": {
              "model_id": "51bef73ba5ee4186b8c850b1defbb4c1",
              "version_minor": 0,
              "version_major": 2
            },
            "text/plain": [
              "HBox(children=(Button(description='Step', style=ButtonStyle()), Button(description='Run', style=ButtonStyle())…"
            ]
          },
          "metadata": {
            "tags": []
          }
        },
        {
          "output_type": "display_data",
          "data": {
            "application/vnd.jupyter.widget-view+json": {
              "model_id": "f59799cf41524cc7a37c02243ff697a7",
              "version_minor": 0,
              "version_major": 2
            },
            "text/plain": [
              "Output()"
            ]
          },
          "metadata": {
            "tags": []
          }
        }
      ]
    },
    {
      "cell_type": "code",
      "metadata": {
        "id": "hAYEiGFLN03z",
        "colab_type": "code",
        "outputId": "c802fee2-f345-4e46-88eb-46c738a359c0",
        "colab": {
          "base_uri": "https://localhost:8080/",
          "height": 233,
          "referenced_widgets": [
            "2c61a47c26494016a4ccd603aecae333",
            "fffde02a0d3d48c8a837a8ff654394e5",
            "1d6471459949495cbdafdef88c7a344c",
            "d4550ef45e7b4206bbc1e57310d81a87",
            "5855f55422114056bb836fdb0aae25b0",
            "bacdbbc2bfff45c4a1820b4caf40974c",
            "ce2463dad6f0418081e057ad4b84a6c2",
            "82e665aa21604804a4ac888488fff39d",
            "9a4593fc43754210be77f8fd4ba74017"
          ]
        }
      },
      "source": [
        "class GreedySearch(BaseAlgorithm):\n",
        "  \n",
        "  # selects the open node with the best heuristic score (lower is better)\n",
        "  def select_node(self):\n",
        "    best_i = 0;\n",
        "    for i in range(len(self.open_nodes)):\n",
        "      if self.open_nodes[i].heuristic < self.open_nodes[best_i].heuristic:\n",
        "        best_i = i\n",
        "    return self.open_nodes.pop(best_i)\n",
        "\n",
        "GreedySearch().read_board(FILENAME)"
      ],
      "execution_count": 0,
      "outputs": [
        {
          "output_type": "display_data",
          "data": {
            "application/vnd.jupyter.widget-view+json": {
              "model_id": "2c61a47c26494016a4ccd603aecae333",
              "version_minor": 0,
              "version_major": 2
            },
            "text/plain": [
              "HBox(children=(Button(description='Step', style=ButtonStyle()), Button(description='Run', style=ButtonStyle())…"
            ]
          },
          "metadata": {
            "tags": []
          }
        },
        {
          "output_type": "display_data",
          "data": {
            "application/vnd.jupyter.widget-view+json": {
              "model_id": "9a4593fc43754210be77f8fd4ba74017",
              "version_minor": 0,
              "version_major": 2
            },
            "text/plain": [
              "Output()"
            ]
          },
          "metadata": {
            "tags": []
          }
        }
      ]
    },
    {
      "cell_type": "code",
      "metadata": {
        "id": "i4e6PzuHQQtq",
        "colab_type": "code",
        "outputId": "6e32ebea-2512-4c75-da4c-050f23d4a0a1",
        "colab": {
          "base_uri": "https://localhost:8080/",
          "height": 233,
          "referenced_widgets": [
            "52337648b8c741deb01596d060d24ed7",
            "2b64060538c54c27a21e923fc87dc9a2",
            "67015d4df8da4e71a5f682868b932619",
            "d8a880135aec4cd7a97ec8093dab45b2",
            "79431e7ea2d9438080cd957833d98d56",
            "3af829af8951448faf8ad05ebb59bc22",
            "b986a6eac8ac4df2b494e2cf8662821f",
            "702b4fd183b64b1a847a02002f7d6ef6",
            "6d9356ac1a3c4df3adcca6faac75e731"
          ]
        }
      },
      "source": [
        "class DFS(BaseAlgorithm):\n",
        "  \n",
        "  # a simple stack\n",
        "  def select_node(self):\n",
        "    return self.open_nodes.pop()\n",
        "\n",
        "DFS().read_board(FILENAME)"
      ],
      "execution_count": 0,
      "outputs": [
        {
          "output_type": "display_data",
          "data": {
            "application/vnd.jupyter.widget-view+json": {
              "model_id": "52337648b8c741deb01596d060d24ed7",
              "version_minor": 0,
              "version_major": 2
            },
            "text/plain": [
              "HBox(children=(Button(description='Step', style=ButtonStyle()), Button(description='Run', style=ButtonStyle())…"
            ]
          },
          "metadata": {
            "tags": []
          }
        },
        {
          "output_type": "display_data",
          "data": {
            "application/vnd.jupyter.widget-view+json": {
              "model_id": "6d9356ac1a3c4df3adcca6faac75e731",
              "version_minor": 0,
              "version_major": 2
            },
            "text/plain": [
              "Output()"
            ]
          },
          "metadata": {
            "tags": []
          }
        }
      ]
    },
    {
      "cell_type": "code",
      "metadata": {
        "id": "dyuDiGIRQ2rV",
        "colab_type": "code",
        "outputId": "1abe91a0-6ef4-4eb2-e0c0-6e79671a37a5",
        "colab": {
          "base_uri": "https://localhost:8080/",
          "height": 233,
          "referenced_widgets": [
            "01b6393b095145069f52e7a6cf28b2de",
            "80a0aba1c6b744688f30b03200ae354a",
            "a0248912bb84406e8501fd91ba1a5b46",
            "616f1076a7aa491bad9a1343e03e4556",
            "2522a5441f4542fbb8be3e4d7c22194d",
            "9731d225705043d2a16592619ebb5e30",
            "de0f62189c3646b2ba259bf6c49fce2f",
            "8d62f02a98ed48c39c03289216c29ef7",
            "91a3438507a2411d8764ba62039141b6"
          ]
        }
      },
      "source": [
        "class BFS(BaseAlgorithm):\n",
        "  \n",
        "  # a simple queue\n",
        "  def select_node(self):\n",
        "    return self.open_nodes.pop(0)\n",
        "\n",
        "BFS().read_board(FILENAME)"
      ],
      "execution_count": 0,
      "outputs": [
        {
          "output_type": "display_data",
          "data": {
            "application/vnd.jupyter.widget-view+json": {
              "model_id": "01b6393b095145069f52e7a6cf28b2de",
              "version_minor": 0,
              "version_major": 2
            },
            "text/plain": [
              "HBox(children=(Button(description='Step', style=ButtonStyle()), Button(description='Run', style=ButtonStyle())…"
            ]
          },
          "metadata": {
            "tags": []
          }
        },
        {
          "output_type": "display_data",
          "data": {
            "application/vnd.jupyter.widget-view+json": {
              "model_id": "91a3438507a2411d8764ba62039141b6",
              "version_minor": 0,
              "version_major": 2
            },
            "text/plain": [
              "Output()"
            ]
          },
          "metadata": {
            "tags": []
          }
        }
      ]
    },
    {
      "cell_type": "code",
      "metadata": {
        "id": "ThevrxV_cPRT",
        "colab_type": "code",
        "outputId": "7ed20342-38f2-426a-dc16-4c27376a1841",
        "colab": {
          "base_uri": "https://localhost:8080/",
          "height": 233,
          "referenced_widgets": [
            "2b9cce0336724e28b73317f1db8bf6ae",
            "3897355da11048e79c36ab7211f6a5d7",
            "fe2e009279c549d29c89fadc6e25e2e8",
            "b112d8f2ac7b4a8ab25b378fcefe2903",
            "0df42d1a2e744727a36e64aa54a86021",
            "86dd55901864481dae5b6ab5ee29157c",
            "561c1e467b2342deb5969783630aeeb8",
            "67c1fbe07852488f9f8577c6e8b48371",
            "d856f172317e4549a5ffc6d3a76accc4"
          ]
        }
      },
      "source": [
        "class Dijkstra(BaseAlgorithm):\n",
        "  \n",
        "  # selects the open node with the lowest current distance\n",
        "  def select_node(self):\n",
        "    return self.open_nodes.pop(0)\n",
        "\n",
        "Dijkstra().read_board(FILENAME)"
      ],
      "execution_count": 0,
      "outputs": [
        {
          "output_type": "display_data",
          "data": {
            "application/vnd.jupyter.widget-view+json": {
              "model_id": "2b9cce0336724e28b73317f1db8bf6ae",
              "version_minor": 0,
              "version_major": 2
            },
            "text/plain": [
              "HBox(children=(Button(description='Step', style=ButtonStyle()), Button(description='Run', style=ButtonStyle())…"
            ]
          },
          "metadata": {
            "tags": []
          }
        },
        {
          "output_type": "display_data",
          "data": {
            "application/vnd.jupyter.widget-view+json": {
              "model_id": "d856f172317e4549a5ffc6d3a76accc4",
              "version_minor": 0,
              "version_major": 2
            },
            "text/plain": [
              "Output()"
            ]
          },
          "metadata": {
            "tags": []
          }
        }
      ]
    },
    {
      "cell_type": "code",
      "metadata": {
        "id": "GX-8M3DocuUw",
        "colab_type": "code",
        "outputId": "61bce54d-c95f-4314-bb21-b444be7caf36",
        "colab": {
          "base_uri": "https://localhost:8080/",
          "height": 233,
          "referenced_widgets": [
            "aedd9083ad0c49e0a3cc978bd2a2f5ca",
            "d06967df111a4f11b0b46aa76420c2b5",
            "98ff87005bbd423abfe6888fc33b78a9",
            "70eb5273c09e4ed7abd613128e04113c",
            "922aedf9a79b42348aa03ed59544722e",
            "c6114277d28d403b9a63a5ef4f8a325d",
            "70951fbcfb7245f2bbda3d809ef77dfb",
            "c45da2ab1bb14f1c8659b3535ad58238",
            "c7b5acbf03ea4e83bed035a5c8e056e9"
          ]
        }
      },
      "source": [
        "class AStar(BaseAlgorithm):\n",
        "  \n",
        "  # selects the open node with the lowest sum\n",
        "  # of the current distance + the heuristic\n",
        "  def select_node(self):\n",
        "    best_i = 0\n",
        "    best_n = self.open_nodes[best_i]\n",
        "    for i in range(len(self.open_nodes)):\n",
        "      n = self.open_nodes[i]\n",
        "      if n.dist + n.heuristic < best_n.dist + best_n.heuristic:\n",
        "        best_i = i\n",
        "        best_n = n\n",
        "    return self.open_nodes.pop(best_i)\n",
        "\n",
        "AStar().read_board(FILENAME)"
      ],
      "execution_count": 0,
      "outputs": [
        {
          "output_type": "display_data",
          "data": {
            "application/vnd.jupyter.widget-view+json": {
              "model_id": "aedd9083ad0c49e0a3cc978bd2a2f5ca",
              "version_minor": 0,
              "version_major": 2
            },
            "text/plain": [
              "HBox(children=(Button(description='Step', style=ButtonStyle()), Button(description='Run', style=ButtonStyle())…"
            ]
          },
          "metadata": {
            "tags": []
          }
        },
        {
          "output_type": "display_data",
          "data": {
            "application/vnd.jupyter.widget-view+json": {
              "model_id": "c7b5acbf03ea4e83bed035a5c8e056e9",
              "version_minor": 0,
              "version_major": 2
            },
            "text/plain": [
              "Output()"
            ]
          },
          "metadata": {
            "tags": []
          }
        }
      ]
    }
  ]
}